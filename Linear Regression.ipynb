{
 "cells": [
  {
   "cell_type": "code",
   "execution_count": 1,
   "metadata": {},
   "outputs": [
    {
     "name": "stderr",
     "output_type": "stream",
     "text": [
      "D:\\Python3.6\\lib\\site-packages\\h5py\\__init__.py:36: FutureWarning: Conversion of the second argument of issubdtype from `float` to `np.floating` is deprecated. In future, it will be treated as `np.float64 == np.dtype(float).type`.\n",
      "  from ._conv import register_converters as _register_converters\n"
     ]
    }
   ],
   "source": [
    "import tensorflow as tf"
   ]
  },
  {
   "cell_type": "code",
   "execution_count": 6,
   "metadata": {},
   "outputs": [
    {
     "name": "stdout",
     "output_type": "stream",
     "text": [
      "(1, 2000)\n"
     ]
    }
   ],
   "source": [
    "import numpy as np\n",
    "import matplotlib.pyplot as plt\n",
    "\n",
    "%matplotlib inline\n",
    "\n",
    "x_data = np.random.randn(2000, 3)\n",
    "W_real = np.array([0.3, 0.5, 0.1])\n",
    "b_real = -0.2\n",
    "\n",
    "noise = np.random.randn(1, 2000) * 0.1\n",
    "y_data = np.matmul(W_real, x_data.T) + b_real + noise\n",
    "\n",
    "# print(y_data.shape)\n",
    "\n",
    "# So wrong! x是三维的\n",
    "# plt.scatter(x_data, y_data, color='blue')\n",
    "# plt.plot(x_data, np.matmul(W_real, x_data.T) + b_real)\n",
    "# plt.show()"
   ]
  },
  {
   "cell_type": "code",
   "execution_count": 9,
   "metadata": {},
   "outputs": [
    {
     "name": "stdout",
     "output_type": "stream",
     "text": [
      "0 [array([[0., 0., 0.]], dtype=float32), 0.0]\n",
      "5 [array([[0.2995328 , 0.4957565 , 0.10229202]], dtype=float32), -0.20226847]\n",
      "10 [array([[0.2995327 , 0.4957564 , 0.10229196]], dtype=float32), -0.20226851]\n"
     ]
    }
   ],
   "source": [
    "NUM_STEPS = 10\n",
    "\n",
    "g = tf.Graph()\n",
    "\n",
    "with g.as_default():\n",
    "    X = tf.placeholder(tf.float32, shape=[None, 3])\n",
    "    y = tf.placeholder(tf.float32, shape=[1, None])\n",
    "    \n",
    "    with tf.name_scope('inference') as scope:\n",
    "        W = tf.Variable([[0.0, 0.0, 0.0]], dtype=tf.float32, name='weights')\n",
    "        b = tf.Variable(0.0, dtype=tf.float32, name='bias')\n",
    "        y_pred = tf.matmul(W, tf.transpose(X)) + b\n",
    "    \n",
    "    with tf.name_scope('loss') as scope:\n",
    "        loss = tf.reduce_mean(tf.square(y - y_pred))\n",
    "    \n",
    "    with tf.name_scope('train') as scope:\n",
    "        learning_rate = 0.5\n",
    "        gd = tf.train.GradientDescentOptimizer(learning_rate).minimize(loss)\n",
    "    \n",
    "    init = tf.global_variables_initializer()\n",
    "    \n",
    "    with tf.Session() as sess:\n",
    "        sess.run(init)\n",
    "        for _ in range(NUM_STEPS):  \n",
    "            sess.run(gd, feed_dict={X:x_data, y:y_data})\n",
    "            if _ % 5 == 0:\n",
    "                print(_, sess.run([W, b]))            \n",
    "        print(10, sess.run([W, b]))"
   ]
  }
 ],
 "metadata": {
  "kernelspec": {
   "display_name": "Python 3",
   "language": "python",
   "name": "python3"
  },
  "language_info": {
   "codemirror_mode": {
    "name": "ipython",
    "version": 3
   },
   "file_extension": ".py",
   "mimetype": "text/x-python",
   "name": "python",
   "nbconvert_exporter": "python",
   "pygments_lexer": "ipython3",
   "version": "3.6.3"
  }
 },
 "nbformat": 4,
 "nbformat_minor": 2
}
