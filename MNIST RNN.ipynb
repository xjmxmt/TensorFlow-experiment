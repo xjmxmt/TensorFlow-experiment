{
 "cells": [
  {
   "cell_type": "code",
   "execution_count": 1,
   "metadata": {},
   "outputs": [
    {
     "name": "stderr",
     "output_type": "stream",
     "text": [
      "D:\\Python3.6\\lib\\site-packages\\h5py\\__init__.py:36: FutureWarning: Conversion of the second argument of issubdtype from `float` to `np.floating` is deprecated. In future, it will be treated as `np.float64 == np.dtype(float).type`.\n",
      "  from ._conv import register_converters as _register_converters\n",
      "Using TensorFlow backend.\n"
     ]
    }
   ],
   "source": [
    "import tensorflow as tf\n",
    "import numpy as np\n",
    "from keras.utils import to_categorical"
   ]
  },
  {
   "cell_type": "code",
   "execution_count": 2,
   "metadata": {},
   "outputs": [
    {
     "name": "stdout",
     "output_type": "stream",
     "text": [
      "(60000, 28, 28)\n",
      "(10000, 28, 28)\n"
     ]
    }
   ],
   "source": [
    "mnist = tf.keras.datasets.mnist\n",
    "\n",
    "(x_train, y_train),(x_test, y_test) = mnist.load_data()\n",
    "x_train, x_test = x_train / 255.0, x_test / 255.0\n",
    "print(x_train.shape)\n",
    "print(x_test.shape)\n",
    "\n",
    "x_train = x_train[:1000]\n",
    "x_test = x_test[:100]\n",
    "y_train = y_train[:1000]\n",
    "y_test = y_test[:100]\n",
    "\n",
    "y_train = to_categorical(y_train)\n",
    "y_test = to_categorical(y_test)\n",
    "\n",
    "element_size = 28\n",
    "time_steps = 28\n",
    "num_classes = 10\n",
    "batch_size = 100\n",
    "hidden_layer_size = 128\n",
    "\n",
    "_input = tf.placeholder(tf.float32, shape=[None, time_steps, element_size], name='inputs')\n",
    "y = tf.placeholder(tf.float32, shape=[None, num_classes], name='label')"
   ]
  },
  {
   "cell_type": "code",
   "execution_count": 3,
   "metadata": {},
   "outputs": [],
   "source": [
    "def variable_summaries(var):\n",
    "    with tf.name_scope('summaries'):\n",
    "        mean = tf.reduce_mean(var)\n",
    "        tf.summary.scalar('mean', mean)\n",
    "        with tf.name_scope('stddev'):\n",
    "            stddev = tf.sqrt(tf.reduce_mean(tf.square(var - mean)))\n",
    "            tf.summary.scalar('stddev', stddev)\n",
    "            tf.summary.scalar('max', tf.reduce_max(var))      \n",
    "            tf.summary.scalar('min', tf.reduce_min(var))      \n",
    "            tf.summary.histogram('histogram', var)"
   ]
  },
  {
   "cell_type": "code",
   "execution_count": 4,
   "metadata": {},
   "outputs": [],
   "source": [
    "with tf.name_scope('rnn_weights'):\n",
    "    with tf.name_scope('W_x'):\n",
    "        Wx = tf.Variable(tf.zeros([element_size, hidden_layer_size]))\n",
    "        variable_summaries(Wx)\n",
    "    with tf.name_scope('W_h'):\n",
    "        Wh = tf.Variable(tf.zeros([hidden_layer_size, hidden_layer_size]))\n",
    "        variable_summaries(Wh)\n",
    "    with tf.name_scope('Bias'):\n",
    "        b_rnn = tf.Variable(tf.zeros([hidden_layer_size]))\n",
    "        variable_summaries(b_rnn)"
   ]
  },
  {
   "cell_type": "code",
   "execution_count": 5,
   "metadata": {},
   "outputs": [],
   "source": [
    "def rnn_step(previous_hidden_state, x):\n",
    "    current_hidden_state = tf.tanh(tf.matmul(x, Wx) + tf.matmul(previous_hidden_state, Wh) + b_rnn)\n",
    "    return current_hidden_state"
   ]
  },
  {
   "cell_type": "code",
   "execution_count": 6,
   "metadata": {},
   "outputs": [],
   "source": [
    "processed_input = tf.transpose(_input, perm=(1,0,2))\n",
    "\n",
    "initial_hidden = tf.zeros([batch_size, hidden_layer_size])\n",
    "\n",
    "# tf.scan 有累加的效果\n",
    "all_hidden_state = tf.scan(rnn_step,\n",
    "                          processed_input,\n",
    "                          initializer=initial_hidden,\n",
    "                          name='states')"
   ]
  },
  {
   "cell_type": "code",
   "execution_count": 7,
   "metadata": {},
   "outputs": [],
   "source": [
    "with tf.name_scope('linear_layer_weights') as scope:\n",
    "    with tf.name_scope('W_linear'):\n",
    "        Wl = tf.Variable(tf.truncated_normal([hidden_layer_size, num_classes], mean=0, stddev=0.01))\n",
    "        variable_summaries(Wl)\n",
    "    with tf.name_scope('Bias_linear'):\n",
    "        bl = tf.Variable(tf.truncated_normal([num_classes], mean=0, stddev=0.01))\n",
    "        variable_summaries(bl)"
   ]
  },
  {
   "cell_type": "code",
   "execution_count": 8,
   "metadata": {},
   "outputs": [],
   "source": [
    "def get_linear_layer(hidden_state):\n",
    "    return tf.matmul(hidden_state, Wl) + bl"
   ]
  },
  {
   "cell_type": "code",
   "execution_count": 9,
   "metadata": {},
   "outputs": [],
   "source": [
    "with tf.name_scope('linear_layer_weights') as scope:\n",
    "    all_outputs = tf.map_fn(get_linear_layer, all_hidden_state)\n",
    "    output = all_outputs[-1]\n",
    "    tf.summary.histogram('outputs', output)"
   ]
  },
  {
   "cell_type": "code",
   "execution_count": 10,
   "metadata": {},
   "outputs": [
    {
     "name": "stdout",
     "output_type": "stream",
     "text": [
      "WARNING:tensorflow:From <ipython-input-10-aeeb9e4af6e8>:2: softmax_cross_entropy_with_logits (from tensorflow.python.ops.nn_ops) is deprecated and will be removed in a future version.\n",
      "Instructions for updating:\n",
      "\n",
      "Future major versions of TensorFlow will allow gradients to flow\n",
      "into the labels input on backprop by default.\n",
      "\n",
      "See `tf.nn.softmax_cross_entropy_with_logits_v2`.\n",
      "\n"
     ]
    }
   ],
   "source": [
    "with tf.name_scope('cross_entropy'):\n",
    "    cross_entropy = tf.reduce_mean(tf.nn.softmax_cross_entropy_with_logits(labels=y, logits=output))\n",
    "    tf.summary.scalar('cross_entropy', cross_entropy)\n",
    "    \n",
    "with tf.name_scope('train'):\n",
    "    gd = tf.train.RMSPropOptimizer(0.001, 0.9).minimize(cross_entropy)\n",
    "\n",
    "with tf.name_scope('accuracy'):\n",
    "    correct_prediction = tf.equal(tf.argmax(output, 1), tf.argmax(y, 1))\n",
    "    accuracy = tf.reduce_mean(tf.cast(correct_prediction, tf.float32))*100\n",
    "    tf.summary.scalar('accuracy', accuracy)\n",
    "\n",
    "merged = tf.summary.merge_all()"
   ]
  },
  {
   "cell_type": "code",
   "execution_count": 14,
   "metadata": {},
   "outputs": [
    {
     "name": "stdout",
     "output_type": "stream",
     "text": [
      "Iter 0, Minibatch Loss= 2.303760, Training Accuracy= 6.00000\n",
      "Iter 0, Minibatch Loss= 2.301728, Training Accuracy= 14.00000\n",
      "Iter 0, Minibatch Loss= 2.303330, Training Accuracy= 8.00000\n",
      "Iter 0, Minibatch Loss= 2.301440, Training Accuracy= 14.00000\n",
      "Iter 0, Minibatch Loss= 2.302683, Training Accuracy= 10.00000\n",
      "Iter 0, Minibatch Loss= 2.301846, Training Accuracy= 12.00000\n",
      "Iter 0, Minibatch Loss= 2.302303, Training Accuracy= 12.00000\n",
      "Iter 0, Minibatch Loss= 2.303531, Training Accuracy= 5.00000\n",
      "Iter 0, Minibatch Loss= 2.301851, Training Accuracy= 12.00000\n",
      "Iter 0, Minibatch Loss= 2.302931, Training Accuracy= 6.00000\n",
      "Iter 10, Minibatch Loss= 2.301774, Training Accuracy= 10.00000\n",
      "Iter 10, Minibatch Loss= 2.300106, Training Accuracy= 11.00000\n",
      "Iter 10, Minibatch Loss= 2.302482, Training Accuracy= 8.00000\n",
      "Iter 10, Minibatch Loss= 2.298291, Training Accuracy= 13.00000\n",
      "Iter 10, Minibatch Loss= 2.301248, Training Accuracy= 10.00000\n",
      "Iter 10, Minibatch Loss= 2.301404, Training Accuracy= 10.00000\n",
      "Iter 10, Minibatch Loss= 2.300110, Training Accuracy= 13.00000\n",
      "Iter 10, Minibatch Loss= 2.304678, Training Accuracy= 11.00000\n",
      "Iter 10, Minibatch Loss= 2.301110, Training Accuracy= 12.00000\n",
      "Iter 10, Minibatch Loss= 2.299554, Training Accuracy= 19.00000\n",
      "Iter 20, Minibatch Loss= 2.215470, Training Accuracy= 10.00000\n",
      "Iter 20, Minibatch Loss= 2.200377, Training Accuracy= 22.00000\n",
      "Iter 20, Minibatch Loss= 2.192554, Training Accuracy= 22.00000\n",
      "Iter 20, Minibatch Loss= 2.122624, Training Accuracy= 26.00000\n",
      "Iter 20, Minibatch Loss= 2.144926, Training Accuracy= 21.00000\n",
      "Iter 20, Minibatch Loss= 2.176030, Training Accuracy= 13.00000\n",
      "Iter 20, Minibatch Loss= 2.217109, Training Accuracy= 18.00000\n",
      "Iter 20, Minibatch Loss= 2.109500, Training Accuracy= 23.00000\n",
      "Iter 20, Minibatch Loss= 2.104743, Training Accuracy= 18.00000\n",
      "Iter 20, Minibatch Loss= 2.171739, Training Accuracy= 24.00000\n",
      "Iter 30, Minibatch Loss= 1.634914, Training Accuracy= 44.00000\n",
      "Iter 30, Minibatch Loss= 1.632164, Training Accuracy= 30.00000\n",
      "Iter 30, Minibatch Loss= 1.788017, Training Accuracy= 29.00000\n",
      "Iter 30, Minibatch Loss= 1.693425, Training Accuracy= 27.00000\n",
      "Iter 30, Minibatch Loss= 1.628719, Training Accuracy= 27.00000\n",
      "Iter 30, Minibatch Loss= 1.588507, Training Accuracy= 36.00000\n",
      "Iter 30, Minibatch Loss= 1.656627, Training Accuracy= 37.00000\n",
      "Iter 30, Minibatch Loss= 1.635729, Training Accuracy= 44.00000\n",
      "Iter 30, Minibatch Loss= 1.586895, Training Accuracy= 44.00000\n",
      "Iter 30, Minibatch Loss= 1.667109, Training Accuracy= 44.00000\n",
      "Iter 40, Minibatch Loss= 1.464769, Training Accuracy= 57.00000\n",
      "Iter 40, Minibatch Loss= 1.474828, Training Accuracy= 41.00000\n",
      "Iter 40, Minibatch Loss= 1.618760, Training Accuracy= 35.00000\n",
      "Iter 40, Minibatch Loss= 1.930950, Training Accuracy= 19.00000\n",
      "Iter 40, Minibatch Loss= 1.578977, Training Accuracy= 29.00000\n",
      "Iter 40, Minibatch Loss= 1.510720, Training Accuracy= 37.00000\n",
      "Iter 40, Minibatch Loss= 1.598240, Training Accuracy= 42.00000\n",
      "Iter 40, Minibatch Loss= 1.527537, Training Accuracy= 47.00000\n",
      "Iter 40, Minibatch Loss= 1.467469, Training Accuracy= 45.00000\n",
      "Iter 40, Minibatch Loss= 1.511448, Training Accuracy= 54.00000\n",
      "Iter 50, Minibatch Loss= 1.363683, Training Accuracy= 52.00000\n",
      "Iter 50, Minibatch Loss= 1.398081, Training Accuracy= 37.00000\n",
      "Iter 50, Minibatch Loss= 1.605735, Training Accuracy= 35.00000\n",
      "Iter 50, Minibatch Loss= 1.738763, Training Accuracy= 23.00000\n",
      "Iter 50, Minibatch Loss= 1.857084, Training Accuracy= 32.00000\n",
      "Iter 50, Minibatch Loss= 1.433485, Training Accuracy= 47.00000\n",
      "Iter 50, Minibatch Loss= 1.530446, Training Accuracy= 42.00000\n",
      "Iter 50, Minibatch Loss= 1.458149, Training Accuracy= 47.00000\n",
      "Iter 50, Minibatch Loss= 1.412903, Training Accuracy= 52.00000\n",
      "Iter 50, Minibatch Loss= 1.441718, Training Accuracy= 52.00000\n",
      "Iter 60, Minibatch Loss= 1.387331, Training Accuracy= 46.00000\n",
      "Iter 60, Minibatch Loss= 1.573038, Training Accuracy= 32.00000\n",
      "Iter 60, Minibatch Loss= 1.490439, Training Accuracy= 43.00000\n",
      "Iter 60, Minibatch Loss= 1.340302, Training Accuracy= 47.00000\n",
      "Iter 60, Minibatch Loss= 1.436662, Training Accuracy= 44.00000\n",
      "Iter 60, Minibatch Loss= 1.356279, Training Accuracy= 44.00000\n",
      "Iter 60, Minibatch Loss= 1.454226, Training Accuracy= 45.00000\n",
      "Iter 60, Minibatch Loss= 1.370568, Training Accuracy= 53.00000\n",
      "Iter 60, Minibatch Loss= 1.305124, Training Accuracy= 52.00000\n",
      "Iter 60, Minibatch Loss= 1.340604, Training Accuracy= 53.00000\n",
      "Iter 70, Minibatch Loss= 1.141258, Training Accuracy= 68.00000\n",
      "Iter 70, Minibatch Loss= 1.127578, Training Accuracy= 59.00000\n",
      "Iter 70, Minibatch Loss= 1.116221, Training Accuracy= 67.00000\n",
      "Iter 70, Minibatch Loss= 1.479866, Training Accuracy= 44.00000\n",
      "Iter 70, Minibatch Loss= 1.798244, Training Accuracy= 33.00000\n",
      "Iter 70, Minibatch Loss= 1.528853, Training Accuracy= 39.00000\n",
      "Iter 70, Minibatch Loss= 1.449092, Training Accuracy= 49.00000\n",
      "Iter 70, Minibatch Loss= 1.335223, Training Accuracy= 50.00000\n",
      "Iter 70, Minibatch Loss= 1.271075, Training Accuracy= 56.00000\n",
      "Iter 70, Minibatch Loss= 1.304850, Training Accuracy= 60.00000\n",
      "Iter 80, Minibatch Loss= 1.236384, Training Accuracy= 60.00000\n",
      "Iter 80, Minibatch Loss= 1.425545, Training Accuracy= 40.00000\n",
      "Iter 80, Minibatch Loss= 1.211085, Training Accuracy= 48.00000\n",
      "Iter 80, Minibatch Loss= 1.158197, Training Accuracy= 58.00000\n",
      "Iter 80, Minibatch Loss= 1.178426, Training Accuracy= 51.00000\n",
      "Iter 80, Minibatch Loss= 1.234764, Training Accuracy= 54.00000\n",
      "Iter 80, Minibatch Loss= 1.327534, Training Accuracy= 55.00000\n",
      "Iter 80, Minibatch Loss= 1.261290, Training Accuracy= 60.00000\n",
      "Iter 80, Minibatch Loss= 1.210290, Training Accuracy= 62.00000\n",
      "Iter 80, Minibatch Loss= 1.276529, Training Accuracy= 60.00000\n",
      "Iter 90, Minibatch Loss= 1.132993, Training Accuracy= 65.00000\n",
      "Iter 90, Minibatch Loss= 1.099109, Training Accuracy= 64.00000\n",
      "Iter 90, Minibatch Loss= 0.910394, Training Accuracy= 70.00000\n",
      "Iter 90, Minibatch Loss= 0.982350, Training Accuracy= 63.00000\n",
      "Iter 90, Minibatch Loss= 1.102352, Training Accuracy= 56.00000\n",
      "Iter 90, Minibatch Loss= 1.223016, Training Accuracy= 55.00000\n",
      "Iter 90, Minibatch Loss= 1.434345, Training Accuracy= 52.00000\n",
      "Iter 90, Minibatch Loss= 1.311673, Training Accuracy= 51.00000\n",
      "Iter 90, Minibatch Loss= 1.317340, Training Accuracy= 58.00000\n",
      "Iter 90, Minibatch Loss= 1.206478, Training Accuracy= 57.00000\n",
      "Test Accuracy: 34.0\n"
     ]
    }
   ],
   "source": [
    "STEPS = 100\n",
    "MINIBATCH_SIZE = batch_size\n",
    "LOG_DIR = 'F:/dlcv_experiment/tensorflow_tutorial/OReily_Tensorflow/'\n",
    "init = tf.global_variables_initializer()\n",
    "\n",
    "n_train = int(x_train.shape[0]/MINIBATCH_SIZE)\n",
    "split_X = np.split(x_train, int(x_train.shape[0]/MINIBATCH_SIZE))\n",
    "split_y = np.split(y_train, int(y_train.shape[0]/MINIBATCH_SIZE))\n",
    "\n",
    "test_data = x_test[:MINIBATCH_SIZE].reshape((-1, time_steps, element_size)) \n",
    "test_label = y_test[:MINIBATCH_SIZE]\n",
    "\n",
    "with tf.Session() as sess:\n",
    "    train_writer = tf.summary.FileWriter(LOG_DIR+'/trian', graph=tf.get_default_graph())\n",
    "    test_writer = tf.summary.FileWriter(LOG_DIR+'/test', graph=tf.get_default_graph())\n",
    "    \n",
    "    sess.run(init)\n",
    "    \n",
    "    for i in range(STEPS):\n",
    "        for k in range(n_train):\n",
    "            batch_x, batch_y = split_X[k], split_y[k]\n",
    "            batch_x = batch_x.reshape([batch_size, time_steps, element_size])\n",
    "            \n",
    "            summary, _ = sess.run([merged, gd], feed_dict={_input:batch_x, y:batch_y})\n",
    "            train_writer.add_summary(summary, i)\n",
    "            \n",
    "            if i % 10 == 0:\n",
    "                acc, loss = sess.run([accuracy,cross_entropy], feed_dict={_input: batch_x, y: batch_y})\n",
    "                print(\"Iter \" + str(i) + \", Minibatch Loss= \" + \"{:.6f}\".format(loss) + \", Training Accuracy= \" + \"{:.5f}\".format(acc))\n",
    "            \n",
    "            if i % 20:\n",
    "                summary, acc = sess.run([merged, accuracy], feed_dict={_input:test_data, y:test_label})\n",
    "                train_writer.add_summary(summary, i)\n",
    "            \n",
    "    test_acc = sess.run(accuracy, feed_dict={_input:test_data, y:test_label})\n",
    "    print(\"Test Accuracy:\", test_acc)"
   ]
  },
  {
   "cell_type": "code",
   "execution_count": null,
   "metadata": {},
   "outputs": [],
   "source": []
  }
 ],
 "metadata": {
  "kernelspec": {
   "display_name": "Python 3",
   "language": "python",
   "name": "python3"
  },
  "language_info": {
   "codemirror_mode": {
    "name": "ipython",
    "version": 3
   },
   "file_extension": ".py",
   "mimetype": "text/x-python",
   "name": "python",
   "nbconvert_exporter": "python",
   "pygments_lexer": "ipython3",
   "version": "3.6.3"
  }
 },
 "nbformat": 4,
 "nbformat_minor": 2
}
