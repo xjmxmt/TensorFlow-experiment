{
 "cells": [
  {
   "cell_type": "code",
   "execution_count": 1,
   "metadata": {},
   "outputs": [
    {
     "name": "stderr",
     "output_type": "stream",
     "text": [
      "D:\\Python3.6\\lib\\site-packages\\h5py\\__init__.py:36: FutureWarning: Conversion of the second argument of issubdtype from `float` to `np.floating` is deprecated. In future, it will be treated as `np.float64 == np.dtype(float).type`.\n",
      "  from ._conv import register_converters as _register_converters\n"
     ]
    }
   ],
   "source": [
    "import tensorflow as tf"
   ]
  },
  {
   "cell_type": "code",
   "execution_count": 2,
   "metadata": {},
   "outputs": [],
   "source": [
    "def sigmoid(x):\n",
    "    return 1 / (1 + np.exp(-x))"
   ]
  },
  {
   "cell_type": "code",
   "execution_count": 8,
   "metadata": {},
   "outputs": [],
   "source": [
    "import numpy as np\n",
    "\n",
    "N = 20000\n",
    "x_data = np.random.randn(N, 3)\n",
    "W_real = np.array([0.3, 0.5, 0.1])\n",
    "b_real = -0.2\n",
    "\n",
    "noise = np.random.randn(1, N) * 0.1\n",
    "y_data = np.matmul(W_real, x_data.T) + b_real + noise\n",
    "y_data = sigmoid(y_data)\n",
    "y_data = np.random.binomial(1, y_data)"
   ]
  },
  {
   "cell_type": "code",
   "execution_count": 16,
   "metadata": {},
   "outputs": [
    {
     "name": "stdout",
     "output_type": "stream",
     "text": [
      "0 [array([[0.0317135 , 0.05629135, 0.01227633]], dtype=float32), -0.0245]\n",
      "5 [array([[0.1403818 , 0.24885385, 0.05430595]], dtype=float32), -0.10767515]\n",
      "10 [array([[0.19841442, 0.3513671 , 0.07671208]], dtype=float32), -0.15127993]\n",
      "15 [array([[0.2307486 , 0.40830573, 0.08916934]], dtype=float32), -0.17510323]\n",
      "20 [array([[0.24927264, 0.44082743, 0.09628828]], dtype=float32), -0.18848944]\n",
      "25 [array([[0.26006073, 0.45971426, 0.10042326]], dtype=float32), -0.19614299]\n",
      "30 [array([[0.2664036 , 0.4707901 , 0.10284793]], dtype=float32), -0.20056625]\n",
      "35 [array([[0.27015334, 0.47732252, 0.10427761]], dtype=float32), -0.20314005]\n",
      "40 [array([[0.27237707, 0.48118815, 0.10512333]], dtype=float32), -0.20464434]\n",
      "45 [array([[0.27369812, 0.48348022, 0.10562456]], dtype=float32), -0.20552616]\n",
      "50 [array([[0.2743574 , 0.48462224, 0.10587419]], dtype=float32), -0.20596135]\n"
     ]
    }
   ],
   "source": [
    "NUM_STEPS = 50\n",
    "\n",
    "g = tf.Graph()\n",
    "\n",
    "with g.as_default():\n",
    "    X = tf.placeholder(tf.float32, shape=[None, 3])\n",
    "    y = tf.placeholder(tf.float32, shape=[1, None])\n",
    "    \n",
    "    with tf.name_scope('inference') as scope:\n",
    "        W = tf.Variable([[0.0, 0.0, 0.0]], dtype=tf.float32, name='weights')\n",
    "        b = tf.Variable(0.0, dtype=tf.float32, name='bias')\n",
    "        y_pred = tf.matmul(W, tf.transpose(X)) + b\n",
    "    \n",
    "    with tf.name_scope('loss') as scope:\n",
    "        loss = tf.reduce_mean(tf.nn.sigmoid_cross_entropy_with_logits(labels=y, logits=y_pred))\n",
    "    \n",
    "    with tf.name_scope('train') as scope:\n",
    "        learning_rate = 0.5\n",
    "        gd = tf.train.GradientDescentOptimizer(learning_rate).minimize(loss)\n",
    "    \n",
    "    init = tf.global_variables_initializer()\n",
    "    \n",
    "    with tf.Session() as sess:\n",
    "        sess.run(init)\n",
    "        for _ in range(NUM_STEPS):  \n",
    "            sess.run(gd, feed_dict={X:x_data, y:y_data})\n",
    "            if _ % 5 == 0:\n",
    "                print(_, sess.run([W, b]))        \n",
    "        print(50, sess.run([W, b]))    "
   ]
  },
  {
   "cell_type": "code",
   "execution_count": null,
   "metadata": {},
   "outputs": [],
   "source": []
  }
 ],
 "metadata": {
  "kernelspec": {
   "display_name": "Python 3",
   "language": "python",
   "name": "python3"
  },
  "language_info": {
   "codemirror_mode": {
    "name": "ipython",
    "version": 3
   },
   "file_extension": ".py",
   "mimetype": "text/x-python",
   "name": "python",
   "nbconvert_exporter": "python",
   "pygments_lexer": "ipython3",
   "version": "3.6.3"
  }
 },
 "nbformat": 4,
 "nbformat_minor": 2
}
